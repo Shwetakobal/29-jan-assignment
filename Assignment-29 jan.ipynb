{
 "cells": [
  {
   "cell_type": "code",
   "execution_count": 1,
   "id": "5503f9e5-6ac0-442a-b51a-9ffcbf242e7b",
   "metadata": {},
   "outputs": [
    {
     "ename": "SyntaxError",
     "evalue": "invalid decimal literal (870431394.py, line 1)",
     "output_type": "error",
     "traceback": [
      "\u001b[0;36m  Cell \u001b[0;32mIn[1], line 1\u001b[0;36m\u001b[0m\n\u001b[0;31m    1.Guido van Rossum\u001b[0m\n\u001b[0m     ^\u001b[0m\n\u001b[0;31mSyntaxError\u001b[0m\u001b[0;31m:\u001b[0m invalid decimal literal\n"
     ]
    }
   ],
   "source": [
    "1.who developed python programming language?\n",
    "ANS:Guido van Rossum\n",
    "2.which type of programming does python support?\n",
    "ANS:object-oriented, structured, and functional programming.\n",
    "3.is python case sensitive when dealing with identifiers?\n",
    "ANS:Yes, Python is a case-sensitive language, so identifiers are case-sensitive. \n",
    "4.what is correct extension of python file?\n",
    "ANS:.py\n",
    "5.is python file compile or interpreted?\n",
    "ANS:interpreted language\n",
    "6.name a few blocks of code use to define in python language\n",
    "ANS:a module, a function body, and a class definition\n",
    "7.state a character used to give single-line comments in python\n",
    "ANS:hash symbol-#\n",
    "8.mention functions which can help us to find a version of python that we are currently working on\n",
    "ANS:The function sys. version can help us to find the version of python that we are currently working on.\n",
    "9.python supports the creation of anonymous functions at runtime\n",
    "ANS:using a construct called lambda.\n",
    "10.what does pip stand for python\n",
    "ANS:Preferred Installer Program\n",
    "11.mention a few built-in functions in python\n",
    "ANS:print( ) function,type( ) function,input( ) function\n",
    "12.what is maximum possible length of an identifier in python\n",
    "ANS:79 characters\n",
    "13.what are benefits of using python\n",
    "ANS:High-level language,Open source,Easy to read, learn and write\n",
    "14.how is memory managed in python?\n",
    "ANS:involves a private heap containing all Python objects and data structures.\n",
    "15.how to install python on windows and set path variables?\n",
    "ANS:Windows: Select the “Path” variable and click on the “Edit” button,click on the “New” button ,click ok\n",
    "16. is indentation required in python \n",
    "ANS: Yes,Very Imp"
   ]
  },
  {
   "cell_type": "code",
   "execution_count": null,
   "id": "aa149fa0-e486-4ff8-9685-e27208990824",
   "metadata": {},
   "outputs": [],
   "source": []
  }
 ],
 "metadata": {
  "kernelspec": {
   "display_name": "Python 3 (ipykernel)",
   "language": "python",
   "name": "python3"
  },
  "language_info": {
   "codemirror_mode": {
    "name": "ipython",
    "version": 3
   },
   "file_extension": ".py",
   "mimetype": "text/x-python",
   "name": "python",
   "nbconvert_exporter": "python",
   "pygments_lexer": "ipython3",
   "version": "3.10.8"
  }
 },
 "nbformat": 4,
 "nbformat_minor": 5
}
